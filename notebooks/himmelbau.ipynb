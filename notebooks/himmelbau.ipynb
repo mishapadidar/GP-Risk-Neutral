{
 "cells": [
  {
   "cell_type": "markdown",
   "metadata": {},
   "source": [
    "# Optimization under Uncertainty on the Himmelbau Function"
   ]
  },
  {
   "cell_type": "code",
   "execution_count": null,
   "metadata": {},
   "outputs": [],
   "source": [
    "import sys\n",
    "sys.path.insert(1, '../')\n",
    "\n",
    "import numpy as np\n",
    "from bayesopt import BayesianOptimization\n",
    "\n",
    "from riskkernel import Normal_SEKernel\n",
    "from surrogate import GaussianProcessRiskNeutral\n",
    "from sklearn.gaussian_process.kernels import WhiteKernel, ConstantKernel, RBF\n",
    "\n",
    "from strategy import EIStrategy, SRBFStrategy, RandomStrategy\n",
    "from experimental_design import SymmetricLatinHypercube as SLHC\n",
    "import matplotlib.pyplot as plt"
   ]
  },
  {
   "cell_type": "code",
   "execution_count": null,
   "metadata": {},
   "outputs": [],
   "source": [
    "\"\"\"Himmelbau Function 2-Dimensional\n",
    "Four equivalent minima with function value zero at (3,2), (-2.8,3.13), (-3.779,3.28), (3.58,-1.84)\n",
    "\"\"\"\n",
    "f = lambda x: (x[0]**2 + x[1] - 11)**2 + (x[0]+x[1]**2 - 7)**2\n",
    "\n",
    "# just for plotting...easier to evaluate with meshgrid\n",
    "g = lambda x,y: (x**2 + y - 11)**2 + (x + y**2 - 7)**2\n",
    "\n",
    "# dimension\n",
    "dim        = 2\n",
    "\n",
    "# make sure minima are in the feasible region\n",
    "lb         = -5.0*np.ones(dim)\n",
    "ub         = 5.0*np.ones(dim)\n",
    "\n",
    "# maximum evaluations\n",
    "max_evals  = 400"
   ]
  },
  {
   "cell_type": "code",
   "execution_count": null,
   "metadata": {},
   "outputs": [],
   "source": [
    "# experimental design\n",
    "initial_num_pts    = 20*dim  # initial evaluations\n",
    "exp_design = SLHC(dim, initial_num_pts)\n",
    "\n",
    "# strategy\n",
    "strategy   = SRBFStrategy(lb,ub)\n",
    "\n",
    "# uncertainty variance\n",
    "var    = 0.01\n",
    "K      = var*np.eye(dim)\n",
    "\n",
    "# risk-neutral GP kernel\n",
    "kernel     = Normal_SEKernel(K)\n",
    "\n",
    "# initialize surrogate\n",
    "surrogate  = GaussianProcessRiskNeutral(kernel)\n",
    "\n",
    "# initialize the problem\n",
    "problem    = BayesianOptimization(f,dim, max_evals, exp_design, strategy, surrogate,lb, ub)"
   ]
  },
  {
   "cell_type": "code",
   "execution_count": null,
   "metadata": {},
   "outputs": [],
   "source": [
    "# solve the problem\n",
    "xopt,fopt  = problem.minimize()"
   ]
  },
  {
   "cell_type": "code",
   "execution_count": null,
   "metadata": {},
   "outputs": [],
   "source": [
    "# plot the function\n",
    "Ntest = 100\n",
    "x = np.linspace(lb[0],ub[0],Ntest)\n",
    "y = np.linspace(lb[1],ub[1],Ntest)\n",
    "X,Y = np.meshgrid(x,y)\n",
    "Z   = g(X,Y)\n",
    "plt.contour(X,Y,Z,range(1,1000,30))\n",
    "\n",
    "# plot the optimum\n",
    "plt.scatter(xopt[0],xopt[1],color='r',s=150, marker=(5,1),label='Risk Neutral Optimum')\n",
    "plt.legend()\n",
    "plt.show()"
   ]
  },
  {
   "cell_type": "code",
   "execution_count": null,
   "metadata": {},
   "outputs": [],
   "source": []
  }
 ],
 "metadata": {
  "kernelspec": {
   "display_name": "Python 3",
   "language": "python",
   "name": "python3"
  },
  "language_info": {
   "codemirror_mode": {
    "name": "ipython",
    "version": 3
   },
   "file_extension": ".py",
   "mimetype": "text/x-python",
   "name": "python",
   "nbconvert_exporter": "python",
   "pygments_lexer": "ipython3",
   "version": "3.7.4"
  }
 },
 "nbformat": 4,
 "nbformat_minor": 2
}
