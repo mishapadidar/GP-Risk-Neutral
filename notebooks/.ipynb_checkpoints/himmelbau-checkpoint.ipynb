{
 "cells": [
  {
   "cell_type": "markdown",
   "metadata": {},
   "source": [
    "# Optimization under Uncertainty on the Himmelbau Function"
   ]
  },
  {
   "cell_type": "code",
   "execution_count": 2,
   "metadata": {},
   "outputs": [
    {
     "ename": "ModuleNotFoundError",
     "evalue": "No module named 'cvxpy'",
     "output_type": "error",
     "traceback": [
      "\u001b[1;31m---------------------------------------------------------------------------\u001b[0m",
      "\u001b[1;31mModuleNotFoundError\u001b[0m                       Traceback (most recent call last)",
      "\u001b[1;32m<ipython-input-2-77efbdd659ac>\u001b[0m in \u001b[0;36m<module>\u001b[1;34m\u001b[0m\n\u001b[0;32m      6\u001b[0m \u001b[1;33m\u001b[0m\u001b[0m\n\u001b[0;32m      7\u001b[0m \u001b[1;32mfrom\u001b[0m \u001b[0mriskkernel\u001b[0m \u001b[1;32mimport\u001b[0m \u001b[0mNormal_SEKernel\u001b[0m\u001b[1;33m\u001b[0m\u001b[1;33m\u001b[0m\u001b[0m\n\u001b[1;32m----> 8\u001b[1;33m \u001b[1;32mfrom\u001b[0m \u001b[0msurrogate\u001b[0m \u001b[1;32mimport\u001b[0m \u001b[0mGaussianProcessRiskNeutral\u001b[0m\u001b[1;33m\u001b[0m\u001b[1;33m\u001b[0m\u001b[0m\n\u001b[0m\u001b[0;32m      9\u001b[0m \u001b[1;32mfrom\u001b[0m \u001b[0msklearn\u001b[0m\u001b[1;33m.\u001b[0m\u001b[0mgaussian_process\u001b[0m\u001b[1;33m.\u001b[0m\u001b[0mkernels\u001b[0m \u001b[1;32mimport\u001b[0m \u001b[0mWhiteKernel\u001b[0m\u001b[1;33m,\u001b[0m \u001b[0mConstantKernel\u001b[0m\u001b[1;33m,\u001b[0m \u001b[0mRBF\u001b[0m\u001b[1;33m\u001b[0m\u001b[1;33m\u001b[0m\u001b[0m\n\u001b[0;32m     10\u001b[0m \u001b[1;33m\u001b[0m\u001b[0m\n",
      "\u001b[1;32m~\\Dropbox\\cornell\\research\\bindel\\stellarator\\code\\GP-Risk-Neutral\\surrogate.py\u001b[0m in \u001b[0;36m<module>\u001b[1;34m\u001b[0m\n\u001b[0;32m      6\u001b[0m \u001b[1;32mfrom\u001b[0m \u001b[0msklearn\u001b[0m\u001b[1;33m.\u001b[0m\u001b[0mgaussian_process\u001b[0m \u001b[1;32mimport\u001b[0m \u001b[0mGaussianProcessRegressor\u001b[0m \u001b[1;32mas\u001b[0m \u001b[0mGPR\u001b[0m\u001b[1;33m\u001b[0m\u001b[1;33m\u001b[0m\u001b[0m\n\u001b[0;32m      7\u001b[0m \u001b[1;32mfrom\u001b[0m \u001b[0mscipy\u001b[0m\u001b[1;33m.\u001b[0m\u001b[0moptimize\u001b[0m \u001b[1;32mimport\u001b[0m \u001b[0mminimize\u001b[0m\u001b[1;33m\u001b[0m\u001b[1;33m\u001b[0m\u001b[0m\n\u001b[1;32m----> 8\u001b[1;33m \u001b[1;32mimport\u001b[0m \u001b[0mcvxpy\u001b[0m \u001b[1;32mas\u001b[0m \u001b[0mcp\u001b[0m\u001b[1;33m\u001b[0m\u001b[1;33m\u001b[0m\u001b[0m\n\u001b[0m\u001b[0;32m      9\u001b[0m \u001b[1;33m\u001b[0m\u001b[0m\n\u001b[0;32m     10\u001b[0m \u001b[1;33m\u001b[0m\u001b[0m\n",
      "\u001b[1;31mModuleNotFoundError\u001b[0m: No module named 'cvxpy'"
     ]
    }
   ],
   "source": [
    "import sys\n",
    "sys.path.insert(1, '../')\n",
    "\n",
    "import numpy as np\n",
    "from bayesopt import BayesianOptimization\n",
    "\n",
    "from riskkernel import Normal_SEKernel\n",
    "from surrogate import GaussianProcessRiskNeutral\n",
    "from sklearn.gaussian_process.kernels import WhiteKernel, ConstantKernel, RBF\n",
    "\n",
    "from strategy import EIStrategy, SRBFStrategy\n",
    "from experimental_design import SymmetricLatinHypercube as SLHC\n",
    "import matplotlib.pyplot as plt"
   ]
  },
  {
   "cell_type": "code",
   "execution_count": 4,
   "metadata": {},
   "outputs": [],
   "source": [
    "\"\"\"Himmelbau Function 2-Dimensional\n",
    "Four equivalent minima with function value zero at (3,2), (-2.8,3.13), (-3.779,3.28), (3.58,-1.84)\n",
    "\"\"\"\n",
    "f = lambda x: (x**2 + y - 11)**2 + (x+y**2 - 7)**2\n",
    "\n",
    "# dimension\n",
    "dim        = 2\n",
    "\n",
    "# make sure minima are in the feasible region\n",
    "lb         = -5.0*np.ones(dim)\n",
    "ub         = 5.0*np.ones(dim)\n",
    "\n",
    "# maximum evaluations\n",
    "max_evals  = 60"
   ]
  },
  {
   "cell_type": "code",
   "execution_count": null,
   "metadata": {},
   "outputs": [],
   "source": [
    "# experimental design\n",
    "num_pts    = 25*dim + 1 # initial evaluations\n",
    "exp_design = SLHC(dim, num_pts)\n",
    "\n",
    "# strategy\n",
    "strategy   = EIStrategy(lb,ub)\n",
    "\n",
    "\n",
    "Sigma      = 0.01*np.eye(dim)\n",
    "kernel     = Normal_SEKernel(Sigma)\n",
    "\n",
    "# customizing bounds for the kernel hyperparams\n",
    "# the following line can be ommitted. \n",
    "kernel.GPkernel = ConstantKernel(1, (1e-3, 1e3)) * RBF(1, (1e-2, 2)) + \\\n",
    "                  WhiteKernel(1e-3, (1e-6, 1e-1))\n",
    "surrogate  = GaussianProcessRiskNeutral(kernel)\n",
    "\n",
    "# initialize the problem\n",
    "problem    = BayesianOptimization(f,dim, max_evals, exp_design, strategy, surrogate,lb, ub)\n",
    "# solve it\n",
    "xopt,fopt  = problem.minimize()"
   ]
  }
 ],
 "metadata": {
  "kernelspec": {
   "display_name": "Python 3",
   "language": "python",
   "name": "python3"
  },
  "language_info": {
   "codemirror_mode": {
    "name": "ipython",
    "version": 3
   },
   "file_extension": ".py",
   "mimetype": "text/x-python",
   "name": "python",
   "nbconvert_exporter": "python",
   "pygments_lexer": "ipython3",
   "version": "3.7.4"
  }
 },
 "nbformat": 4,
 "nbformat_minor": 2
}
